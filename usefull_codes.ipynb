{
 "cells": [
  {
   "cell_type": "code",
   "execution_count": 3,
   "metadata": {},
   "outputs": [],
   "source": [
    "# import the libraries\n",
    "import pandas as pd\n",
    "import numpy as np\n"
   ]
  },
  {
   "cell_type": "code",
   "execution_count": 7,
   "metadata": {},
   "outputs": [],
   "source": [
    "#read the csv file in the file\n",
    "\n",
    "df = pd.read_csv('part_r_00000_CNA.csv')"
   ]
  },
  {
   "cell_type": "code",
   "execution_count": null,
   "metadata": {},
   "outputs": [],
   "source": [
    "# dhow the loaded tada\n",
    "\n",
    "df.head(5)"
   ]
  },
  {
   "cell_type": "code",
   "execution_count": null,
   "metadata": {},
   "outputs": [],
   "source": [
    "# delete the duplicated rows\n",
    "\n",
    "df = df.drop_duplicates()"
   ]
  },
  {
   "cell_type": "code",
   "execution_count": null,
   "metadata": {},
   "outputs": [],
   "source": [
    "# change the column names\n",
    "#change all coluimns\n",
    "df = df.columns = ['column1_name','column2_name','column3_name']\n",
    "\n",
    "#or can change multiple columns\n",
    "df = df.rename(columns={'old_name':'new_name'})\n",
    "\n",
    "#or\n",
    "df.rename(columns={'old_name':'new_name'}, inplace=True)"
   ]
  },
  {
   "cell_type": "code",
   "execution_count": null,
   "metadata": {},
   "outputs": [],
   "source": [
    "# remove the columns that we dont need\n",
    "\n",
    "df = df.drop(columns = \"column name\")"
   ]
  },
  {
   "cell_type": "code",
   "execution_count": null,
   "metadata": {},
   "outputs": [],
   "source": [
    "#remove spaces from both side strip() defualt is space, but you can chouse another characters too\n",
    "\n",
    "df[\"column name\"] = df[\"column name\"].str.strip()\n",
    "\n",
    "#remove spaces from left side\n",
    "\n",
    "df[\"column name\"] = df[\"column name\"].str.lstrip()\n",
    "\n",
    "#remove spaces from right side\n",
    "\n",
    "df[\"column name\"] = df[\"column name\"].str.rstrip()\n",
    "\n",
    "#remove / from both side you can chouse any character this way to romove\n",
    "\n",
    "df[\"column name\"] = df[\"column name\"].str.strip(\"/\")\n",
    "\n",
    "#remove many characters from both side in one time\n",
    "\n",
    "df[\"column name\"] = df[\"column name\"].str.strip(\"123._/...\")"
   ]
  },
  {
   "cell_type": "code",
   "execution_count": null,
   "metadata": {},
   "outputs": [],
   "source": [
    "#in the column replace characters ^ means except a to z and A to Z and 0 to 9 with nothing ''\n",
    "\n",
    "df[\"column name\"] = df[\"column name\"].str.replace('[^a-zA-Z0-9]','')"
   ]
  },
  {
   "cell_type": "code",
   "execution_count": null,
   "metadata": {},
   "outputs": [],
   "source": [
    "# if you have an phonenumber column and you want to see the data like 256-256-4578 you can use lamda or for loop\n",
    "# here we mace the type of the data str\n",
    "df[\"column name\"] = df[\"column name\"].apply(lambda x: str(x))\n",
    "\n",
    "# here we type lamda code to see all rows as we want\n",
    "df[\"column name\"] = df[\"column name\"].apply(lambda x: x[0:3] + '-' + x[3:6] + '-' + x:[6:10])\n",
    "\n",
    "#clear the rows which have 'NaN' or 'Na' or 'NA--' and end of the his you see nothing in these rows\n",
    "df[\"column name\"] = df[\"column name\"].str.replace('NaN','')\n",
    "df[\"column name\"] = df[\"column name\"].str.replace('Na','')\n",
    "df[\"column name\"] = df[\"column name\"].str.replace('Na--','')"
   ]
  },
  {
   "cell_type": "code",
   "execution_count": null,
   "metadata": {},
   "outputs": [],
   "source": [
    "#you can sperate  one column to many\n",
    "# for example adress column has (980 Paper Avenue, Pennsylvania, 18503) you want to separate it and make new three column\n",
    "df[[\"street_Address\", \"State\", \"Zip_Code\"]] = df[\"Address\"].str.split(',', 2, expand = Trues)"
   ]
  },
  {
   "cell_type": "code",
   "execution_count": null,
   "metadata": {},
   "outputs": [],
   "source": [
    "#that is going to fill all df which has NaN or Null with nothing and you will not see those anymore\n",
    "df = df.fillna('')"
   ]
  },
  {
   "cell_type": "code",
   "execution_count": null,
   "metadata": {},
   "outputs": [],
   "source": [
    "# reset the indext \n",
    "df = df.reset_index(drop=True)"
   ]
  },
  {
   "cell_type": "code",
   "execution_count": null,
   "metadata": {},
   "outputs": [],
   "source": []
  },
  {
   "cell_type": "code",
   "execution_count": null,
   "metadata": {},
   "outputs": [],
   "source": []
  }
 ],
 "metadata": {
  "kernelspec": {
   "display_name": "Python 3",
   "language": "python",
   "name": "python3"
  },
  "language_info": {
   "codemirror_mode": {
    "name": "ipython",
    "version": 3
   },
   "file_extension": ".py",
   "mimetype": "text/x-python",
   "name": "python",
   "nbconvert_exporter": "python",
   "pygments_lexer": "ipython3",
   "version": "3.12.0"
  }
 },
 "nbformat": 4,
 "nbformat_minor": 2
}
