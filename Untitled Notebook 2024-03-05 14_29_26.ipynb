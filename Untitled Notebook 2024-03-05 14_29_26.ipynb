{
 "cells": [
  {
   "cell_type": "code",
   "execution_count": 7,
   "metadata": {
    "application/vnd.databricks.v1+cell": {
     "cellMetadata": {
      "byteLimit": 2048000,
      "rowLimit": 10000
     },
     "inputWidgets": {},
     "nuid": "ac7a794a-71e7-443d-a901-a0579b984e81",
     "showTitle": false,
     "title": ""
    }
   },
   "outputs": [],
   "source": [
    "# adlsAccountName = \"datalakedeneme\"\n",
    "# adlsContainerName = \"datacsv\"\n",
    "\n",
    "# adlsFolderName = \"allcsv\"\n",
    "# mountPoint = \"/mnt/files\"\n",
    "\n",
    "# applicationId =dbutils.secrets.get(scope=\"secret11\" ,key=\"appid\")\n",
    "\n",
    "# authenticationKey = dbutils.secrets.get(scope=\"secret11\",key=\"clientsecret\")\n",
    "\n",
    "# tenandId = dbutils.secrets.get(scope=\"secret11\",key=\"tenantid\")\n",
    "\n",
    "# endpoint = \"https://login.microsoftonline.com/\"+ tenandId+\"/oauth2/token\"\n",
    "\n",
    "# source = \"wasbs://\" + adlsContainerName + \"@\" + adlsAccountName+\".dfs.core.windows.net/\"+adlsFolderName\n",
    "\n",
    "# configs = {\"fs.azure.account.auth.type\": \"0Auth\",\n",
    "# \"fs.azure.account.oauth.provider.type\": \"org.apache.hadoop.fs.azurebfs.oauth2.ClientCredsTokenProvider\",\n",
    "# \"fs.azure.account.oauth2.client.id\": applicationId,\n",
    "# \"fs.azure.account.oauth2.client.secret\": authenticationKey,\n",
    "# \"fs.azure.account.oauth2.client.endpoint\": endpoint}\n",
    "\n",
    "\n",
    "\n",
    "# if not any(mount.mountPoint == mountPoint for mount in dbutils.fs.mounts()):\n",
    "#  dbutils.fs.mount(\n",
    "#  source = source,\n",
    "#  mount_point = mountPoint,\n",
    "#  extra_configs = configs)\n"
   ]
  },
  {
   "cell_type": "code",
   "execution_count": 8,
   "metadata": {
    "application/vnd.databricks.v1+cell": {
     "cellMetadata": {
      "byteLimit": 2048000,
      "rowLimit": 10000
     },
     "inputWidgets": {},
     "nuid": "db0ba026-5cfb-4072-97d0-b4fdaffb7c0c",
     "showTitle": false,
     "title": ""
    }
   },
   "outputs": [],
   "source": [
    "# adlsAccountName = \"datalakedeneme\"\n",
    "# adlsContainerName = \"datacsv\"\n",
    "# adlsFolderName = \"allcsv\"\n",
    "# mountPoint = \"/mnt/files\"\n",
    "\n",
    "# applicationId = dbutils.secrets.get(scope=\"secret11\", key=\"appid\")\n",
    "# authenticationKey = dbutils.secrets.get(scope=\"secret11\", key=\"clientsecret\")\n",
    "# tenantId = dbutils.secrets.get(scope=\"secret11\", key=\"tenantid\")\n",
    "# endpoint = \"https://login.microsoftonline.com/\" + tenantId + \"/oauth2/token\"\n",
    "\n",
    "# source = \"wasbs://\" + adlsContainerName + \"@\" + adlsAccountName + \".dfs.core.windows.net/\" + adlsFolderName\n",
    "\n",
    "# configs = {\n",
    "#   \"fs.azure.account.auth.type\": \"OAuth\",\n",
    "#   \"fs.azure.account.oauth.provider.type\": \"org.apache.hadoop.fs.azurebfs.oauth2.ClientCredsTokenProvider\",\n",
    "#   \"fs.azure.account.oauth2.client.id\": applicationId,\n",
    "#   \"fs.azure.account.oauth2.client.secret\": authenticationKey,\n",
    "#   \"fs.azure.account.oauth2.client.endpoint\": endpoint\n",
    "# }\n",
    "\n",
    "# if not any(mount.mountPoint == mountPoint for mount in dbutils.fs.mounts()):\n",
    "#   dbutils.fs.mount(\n",
    "#     source=source,\n",
    "#     mount_point=mountPoint,\n",
    "#     extra_configs=configs\n",
    "#   )"
   ]
  },
  {
   "cell_type": "code",
   "execution_count": 9,
   "metadata": {
    "application/vnd.databricks.v1+cell": {
     "cellMetadata": {
      "byteLimit": 2048000,
      "rowLimit": 10000
     },
     "inputWidgets": {},
     "nuid": "906f2e13-a63b-45b4-8485-d324d96f3c6c",
     "showTitle": false,
     "title": ""
    }
   },
   "outputs": [
    {
     "ename": "NameError",
     "evalue": "name 'dbutils' is not defined",
     "output_type": "error",
     "traceback": [
      "\u001b[1;31m---------------------------------------------------------------------------\u001b[0m",
      "\u001b[1;31mNameError\u001b[0m                                 Traceback (most recent call last)",
      "Input \u001b[1;32mIn [9]\u001b[0m, in \u001b[0;36m<cell line: 6>\u001b[1;34m()\u001b[0m\n\u001b[0;32m      3\u001b[0m adlsFolderName \u001b[38;5;241m=\u001b[39m \u001b[38;5;124m\"\u001b[39m\u001b[38;5;124mallcsv\u001b[39m\u001b[38;5;124m\"\u001b[39m\n\u001b[0;32m      4\u001b[0m mountPoint \u001b[38;5;241m=\u001b[39m \u001b[38;5;124m\"\u001b[39m\u001b[38;5;124m/mnt/files\u001b[39m\u001b[38;5;124m\"\u001b[39m\n\u001b[1;32m----> 6\u001b[0m applicationId \u001b[38;5;241m=\u001b[39m \u001b[43mdbutils\u001b[49m\u001b[38;5;241m.\u001b[39msecrets\u001b[38;5;241m.\u001b[39mget(scope\u001b[38;5;241m=\u001b[39m\u001b[38;5;124m\"\u001b[39m\u001b[38;5;124msecret11\u001b[39m\u001b[38;5;124m\"\u001b[39m, key\u001b[38;5;241m=\u001b[39m\u001b[38;5;124m\"\u001b[39m\u001b[38;5;124mappid\u001b[39m\u001b[38;5;124m\"\u001b[39m)\n\u001b[0;32m      7\u001b[0m authenticationKey \u001b[38;5;241m=\u001b[39m dbutils\u001b[38;5;241m.\u001b[39msecrets\u001b[38;5;241m.\u001b[39mget(scope\u001b[38;5;241m=\u001b[39m\u001b[38;5;124m\"\u001b[39m\u001b[38;5;124msecret11\u001b[39m\u001b[38;5;124m\"\u001b[39m, key\u001b[38;5;241m=\u001b[39m\u001b[38;5;124m\"\u001b[39m\u001b[38;5;124mclientsecret\u001b[39m\u001b[38;5;124m\"\u001b[39m)\n\u001b[0;32m      8\u001b[0m tenantId \u001b[38;5;241m=\u001b[39m dbutils\u001b[38;5;241m.\u001b[39msecrets\u001b[38;5;241m.\u001b[39mget(scope\u001b[38;5;241m=\u001b[39m\u001b[38;5;124m\"\u001b[39m\u001b[38;5;124msecret11\u001b[39m\u001b[38;5;124m\"\u001b[39m, key\u001b[38;5;241m=\u001b[39m\u001b[38;5;124m\"\u001b[39m\u001b[38;5;124mtenantid\u001b[39m\u001b[38;5;124m\"\u001b[39m)\n",
      "\u001b[1;31mNameError\u001b[0m: name 'dbutils' is not defined"
     ]
    }
   ],
   "source": [
    "adlsAccountName = \"datalakedeneme\"\n",
    "adlsContainerName = \"datacsv\"\n",
    "adlsFolderName = \"allcsv\"\n",
    "mountPoint = \"/mnt/files\"\n",
    "\n",
    "applicationId = dbutils.secrets.get(scope=\"secret11\", key=\"appid\")\n",
    "authenticationKey = dbutils.secrets.get(scope=\"secret11\", key=\"clientsecret\")\n",
    "tenantId = dbutils.secrets.get(scope=\"secret11\", key=\"tenantid\")\n",
    "endpoint = \"https://login.microsoftonline.com/\" + tenantId + \"/oauth2/token\"\n",
    "\n",
    "# Bağlama işlemi için kullanılan kaynak (source) ve yapılandırma (configs) parametreleri\n",
    "source = \"abfss://\" + adlsContainerName + \"@\" + adlsAccountName + \".dfs.core.windows.net/\" + adlsFolderName\n",
    "\n",
    "configs = {\n",
    "  \"fs.azure.account.auth.type\": \"OAuth\",\n",
    "  \"fs.azure.account.oauth.provider.type\": \"org.apache.hadoop.fs.azurebfs.oauth2.ClientCredsTokenProvider\",\n",
    "  \"fs.azure.account.oauth2.client.id\": applicationId,\n",
    "  \"fs.azure.account.oauth2.client.secret\": authenticationKey,\n",
    "  \"fs.azure.account.oauth2.client.endpoint\": endpoint\n",
    "}\n",
    "\n",
    "# Eğer belirtilen mountPoint (bağlama noktası) için herhangi bir bağlama yapılmamışsa\n",
    "if not any(mount.mountPoint == mountPoint for mount in dbutils.fs.mounts()):\n",
    "  # Azure Data Lake Storage Gen2'yi bağla\n",
    "  dbutils.fs.mount(\n",
    "    source=source,\n",
    "    mount_point=mountPoint,\n",
    "    extra_configs=configs\n",
    "  )"
   ]
  },
  {
   "cell_type": "code",
   "execution_count": null,
   "metadata": {
    "application/vnd.databricks.v1+cell": {
     "cellMetadata": {
      "byteLimit": 2048000,
      "rowLimit": 10000
     },
     "inputWidgets": {},
     "nuid": "95d6a031-275d-4496-93f6-c91de9ed793f",
     "showTitle": false,
     "title": ""
    }
   },
   "outputs": [
    {
     "data": {
      "text/html": [
       "<style scoped>\n",
       "  .table-result-container {\n",
       "    max-height: 300px;\n",
       "    overflow: auto;\n",
       "  }\n",
       "  table, th, td {\n",
       "    border: 1px solid black;\n",
       "    border-collapse: collapse;\n",
       "  }\n",
       "  th, td {\n",
       "    padding: 5px;\n",
       "  }\n",
       "  th {\n",
       "    text-align: left;\n",
       "  }\n",
       "</style><div class='table-result-container'><table class='table-result'><thead style='background-color: white'><tr><th>path</th><th>name</th><th>size</th><th>modificationTime</th></tr></thead><tbody><tr><td>dbfs:/mnt/files/co2converttable.csv</td><td>co2converttable.csv</td><td>1538</td><td>1709658629000</td></tr><tr><td>dbfs:/mnt/files/part_r_00000_CNA.csv</td><td>part_r_00000_CNA.csv</td><td>57646340</td><td>1709654820000</td></tr></tbody></table></div>"
      ]
     },
     "metadata": {
      "application/vnd.databricks.v1+output": {
       "addedWidgets": {},
       "aggData": [],
       "aggError": "",
       "aggOverflow": false,
       "aggSchema": [],
       "aggSeriesLimitReached": false,
       "aggType": "",
       "arguments": {},
       "columnCustomDisplayInfos": {},
       "data": [
        [
         "dbfs:/mnt/files/co2converttable.csv",
         "co2converttable.csv",
         1538,
         1709658629000
        ],
        [
         "dbfs:/mnt/files/part_r_00000_CNA.csv",
         "part_r_00000_CNA.csv",
         57646340,
         1709654820000
        ]
       ],
       "datasetInfos": [],
       "dbfsResultPath": null,
       "isJsonSchema": true,
       "metadata": {
        "isDbfsCommandResult": false
       },
       "overflow": false,
       "plotOptions": {
        "customPlotOptions": {},
        "displayType": "table",
        "pivotAggregation": null,
        "pivotColumns": null,
        "xColumns": null,
        "yColumns": null
       },
       "removedWidgets": [],
       "schema": [
        {
         "metadata": "{}",
         "name": "path",
         "type": "\"string\""
        },
        {
         "metadata": "{}",
         "name": "name",
         "type": "\"string\""
        },
        {
         "metadata": "{}",
         "name": "size",
         "type": "\"long\""
        },
        {
         "metadata": "{}",
         "name": "modificationTime",
         "type": "\"long\""
        }
       ],
       "type": "table"
      }
     },
     "output_type": "display_data"
    }
   ],
   "source": [
    "%fs\n",
    "ls \"mnt/files\""
   ]
  },
  {
   "cell_type": "code",
   "execution_count": null,
   "metadata": {
    "application/vnd.databricks.v1+cell": {
     "cellMetadata": {
      "byteLimit": 2048000,
      "rowLimit": 10000
     },
     "inputWidgets": {},
     "nuid": "2f369b7e-7c18-4090-b559-e323225b8469",
     "showTitle": false,
     "title": ""
    }
   },
   "outputs": [],
   "source": [
    "import pandas as pd"
   ]
  },
  {
   "cell_type": "code",
   "execution_count": null,
   "metadata": {
    "application/vnd.databricks.v1+cell": {
     "cellMetadata": {
      "byteLimit": 2048000,
      "rowLimit": 10000
     },
     "inputWidgets": {},
     "nuid": "6f2d188b-7db3-41ae-9c5c-7a93dc9a5ba1",
     "showTitle": false,
     "title": ""
    }
   },
   "outputs": [],
   "source": [
    "file_path = \"/dbfs/mnt/files/part_r_00000_CNA.csv\"\n",
    "\n",
    "df = pd.read_csv(file_path, delimiter=';')\n",
    "\n",
    "# Alternatif: İlk 2 sütunu seçerek okuma\n",
    "df = pd.read_csv(file_path)"
   ]
  },
  {
   "cell_type": "code",
   "execution_count": 20,
   "metadata": {},
   "outputs": [],
   "source": [
    "df = pd.read_csv('part_r_00000_CNA.csv')"
   ]
  },
  {
   "cell_type": "code",
   "execution_count": 29,
   "metadata": {
    "application/vnd.databricks.v1+cell": {
     "cellMetadata": {
      "byteLimit": 2048000,
      "rowLimit": 10000
     },
     "inputWidgets": {},
     "nuid": "137c575d-f51c-4409-98dc-b4e15f1e7600",
     "showTitle": false,
     "title": ""
    }
   },
   "outputs": [
    {
     "data": {
      "text/html": [
       "<div>\n",
       "<style scoped>\n",
       "    .dataframe tbody tr th:only-of-type {\n",
       "        vertical-align: middle;\n",
       "    }\n",
       "\n",
       "    .dataframe tbody tr th {\n",
       "        vertical-align: top;\n",
       "    }\n",
       "\n",
       "    .dataframe thead th {\n",
       "        text-align: right;\n",
       "    }\n",
       "</style>\n",
       "<table border=\"1\" class=\"dataframe\">\n",
       "  <thead>\n",
       "    <tr style=\"text-align: right;\">\n",
       "      <th></th>\n",
       "      <th>account_currency</th>\n",
       "      <th>account_id</th>\n",
       "      <th>transformation_amount</th>\n",
       "      <th>transformation_amount</th>\n",
       "      <th>transformation_time</th>\n",
       "      <th>counteryparty_address</th>\n",
       "      <th>counteryparty_country</th>\n",
       "      <th>counteryparty_name</th>\n",
       "      <th>detailed_transaction_type</th>\n",
       "      <th>year_month</th>\n",
       "      <th>year</th>\n",
       "      <th>month</th>\n",
       "    </tr>\n",
       "  </thead>\n",
       "  <tbody>\n",
       "    <tr>\n",
       "      <th>0</th>\n",
       "      <td>GBP</td>\n",
       "      <td>GB37FAKE3149785039</td>\n",
       "      <td>3044.0</td>\n",
       "      <td>304400</td>\n",
       "      <td>2013-02-01 09:00:00</td>\n",
       "      <td>鹿児島県豊島区羽折町7丁目24番12号</td>\n",
       "      <td>Japan</td>\n",
       "      <td>Geldmaat ATM</td>\n",
       "      <td>2222</td>\n",
       "      <td>201302</td>\n",
       "      <td>2013</td>\n",
       "      <td>2</td>\n",
       "    </tr>\n",
       "    <tr>\n",
       "      <th>1</th>\n",
       "      <td>GBP</td>\n",
       "      <td>GB37FAKE3149785039</td>\n",
       "      <td>3044.0</td>\n",
       "      <td>304400</td>\n",
       "      <td>2013-02-01 09:00:00</td>\n",
       "      <td>鹿児島県豊島区羽折町7丁目24番12号</td>\n",
       "      <td>Japan</td>\n",
       "      <td>Geldmaat ATM</td>\n",
       "      <td>2222</td>\n",
       "      <td>201302</td>\n",
       "      <td>2013</td>\n",
       "      <td>2</td>\n",
       "    </tr>\n",
       "    <tr>\n",
       "      <th>2</th>\n",
       "      <td>EUR</td>\n",
       "      <td>NL12FAKE4031529538</td>\n",
       "      <td>4570.0</td>\n",
       "      <td>457000</td>\n",
       "      <td>2013-02-01 09:00:00</td>\n",
       "      <td>Studio 9\\r\\nDonna passage\\r\\nMarcusland\\r\\nZE7...</td>\n",
       "      <td>Great Britain</td>\n",
       "      <td>Geldmaat ATM</td>\n",
       "      <td>2222</td>\n",
       "      <td>201302</td>\n",
       "      <td>2013</td>\n",
       "      <td>2</td>\n",
       "    </tr>\n",
       "    <tr>\n",
       "      <th>3</th>\n",
       "      <td>EUR</td>\n",
       "      <td>NL12FAKE4031529538</td>\n",
       "      <td>4570.0</td>\n",
       "      <td>457000</td>\n",
       "      <td>2013-02-01 09:00:00</td>\n",
       "      <td>Studio 9\\r\\nDonna passage\\r\\nMarcusland\\r\\nZE7...</td>\n",
       "      <td>Great Britain</td>\n",
       "      <td>Geldmaat ATM</td>\n",
       "      <td>2222</td>\n",
       "      <td>201302</td>\n",
       "      <td>2013</td>\n",
       "      <td>2</td>\n",
       "    </tr>\n",
       "    <tr>\n",
       "      <th>4</th>\n",
       "      <td>EUR</td>\n",
       "      <td>NL12FAKE1845242763</td>\n",
       "      <td>2272.0</td>\n",
       "      <td>227200</td>\n",
       "      <td>2013-02-01 09:00:00</td>\n",
       "      <td>Giovanniweg 5\\r\\n6649NN\\r\\nWapserveen</td>\n",
       "      <td>NL</td>\n",
       "      <td>Geldmaat ATM</td>\n",
       "      <td>2222</td>\n",
       "      <td>201302</td>\n",
       "      <td>2013</td>\n",
       "      <td>2</td>\n",
       "    </tr>\n",
       "  </tbody>\n",
       "</table>\n",
       "</div>"
      ],
      "text/plain": [
       "  account_currency           account_id  transformation_amount  \\\n",
       "0               GBP  GB37FAKE3149785039                 3044.0   \n",
       "1               GBP  GB37FAKE3149785039                 3044.0   \n",
       "2               EUR  NL12FAKE4031529538                 4570.0   \n",
       "3               EUR  NL12FAKE4031529538                 4570.0   \n",
       "4               EUR  NL12FAKE1845242763                 2272.0   \n",
       "\n",
       "   transformation_amount  transformation_time  \\\n",
       "0                 304400  2013-02-01 09:00:00   \n",
       "1                 304400  2013-02-01 09:00:00   \n",
       "2                 457000  2013-02-01 09:00:00   \n",
       "3                 457000  2013-02-01 09:00:00   \n",
       "4                 227200  2013-02-01 09:00:00   \n",
       "\n",
       "                               counteryparty_address counteryparty_country  \\\n",
       "0                                鹿児島県豊島区羽折町7丁目24番12号                 Japan   \n",
       "1                                鹿児島県豊島区羽折町7丁目24番12号                 Japan   \n",
       "2  Studio 9\\r\\nDonna passage\\r\\nMarcusland\\r\\nZE7...         Great Britain   \n",
       "3  Studio 9\\r\\nDonna passage\\r\\nMarcusland\\r\\nZE7...         Great Britain   \n",
       "4              Giovanniweg 5\\r\\n6649NN\\r\\nWapserveen                    NL   \n",
       "\n",
       "  counteryparty_name  detailed_transaction_type  year_month  year  month  \n",
       "0       Geldmaat ATM                       2222      201302  2013      2  \n",
       "1       Geldmaat ATM                       2222      201302  2013      2  \n",
       "2       Geldmaat ATM                       2222      201302  2013      2  \n",
       "3       Geldmaat ATM                       2222      201302  2013      2  \n",
       "4       Geldmaat ATM                       2222      201302  2013      2  "
      ]
     },
     "execution_count": 29,
     "metadata": {},
     "output_type": "execute_result"
    }
   ],
   "source": [
    "df.head()"
   ]
  },
  {
   "cell_type": "code",
   "execution_count": 22,
   "metadata": {},
   "outputs": [],
   "source": [
    "df = df.drop(columns = [\"bookg_cdt_dbt_ind\",\"booking_id\",\"card_poi_id\",\n",
    "\"cdtr_schme_id\",\"end_to_end_id\",\"ntry_seq_nb\",\"rmt_inf_ustrd1\",\"rmt_inf_ustrd2\",\n",
    "\"tx_acct_svcr_ref\",\"tx_tp\",\"ctpty_acct_id_bban\",\"ctpty_acct_id_iban\",\"ctpty_acct_ccy\",\"bookg_dt_tm_gmt\",\"ctpty_adr_line2\",\"ctpty_agt_bic\",\"bal_aftr_bookg\",\"bal_aftr_bookg_nmrc\"])"
   ]
  },
  {
   "cell_type": "code",
   "execution_count": 26,
   "metadata": {},
   "outputs": [],
   "source": [
    "df = df.rename(columns={\"acct_ccy\":\"account_currency \",\n",
    "               \"acct_id\":\"account_id\",\n",
    "               \"bookg_amt\":\"transformation_amount\",\n",
    "               \"bookg_amt_nmrc\":\"transformation_amount\",\n",
    "               \"bookg_dt_tm_cet\":\"transformation_time\",\n",
    "               \"ctpty_adr_line1\":\"counteryparty_address\",\n",
    "               \"ctpty_ctry\":\"counteryparty_country\",\n",
    "               \"ctpty_nm\":\"counteryparty_name\",\n",
    "               \"dtld_tx_tp\":\"detailed_transaction_type\"})"
   ]
  },
  {
   "cell_type": "code",
   "execution_count": 28,
   "metadata": {},
   "outputs": [],
   "source": [
    "df['year'] = pd.to_datetime(df['transformation_time']).dt.year\n",
    "df['month'] = pd.to_datetime(df['transformation_time']).dt.month"
   ]
  },
  {
   "cell_type": "code",
   "execution_count": null,
   "metadata": {
    "application/vnd.databricks.v1+cell": {
     "cellMetadata": {
      "byteLimit": 2048000,
      "rowLimit": 10000
     },
     "inputWidgets": {},
     "nuid": "6b84e30c-8755-4c28-9907-ccf73be2e41d",
     "showTitle": false,
     "title": ""
    }
   },
   "outputs": [
    {
     "data": {
      "text/plain": [
       "array([2222, 4121, 5541, 5462, 6630, 6542, 4111, 5542, 5411, 5422, 4131,\n",
       "       5420, 3333, 4112, 4511, 5912, 7512])"
      ]
     },
     "execution_count": 7,
     "metadata": {},
     "output_type": "execute_result"
    }
   ],
   "source": [
    "df['dtld_tx_tp'].unique()"
   ]
  },
  {
   "cell_type": "code",
   "execution_count": null,
   "metadata": {
    "application/vnd.databricks.v1+cell": {
     "cellMetadata": {
      "byteLimit": 2048000,
      "rowLimit": 10000
     },
     "inputWidgets": {},
     "nuid": "eb9a7b2c-7814-45bf-ab79-18ac6a1c1ebc",
     "showTitle": false,
     "title": ""
    }
   },
   "outputs": [
    {
     "name": "stdout",
     "output_type": "stream",
     "text": [
      "[nan 'DdWtHIjese' 'IlleXpAvjE' ... 'uuTUjHfesg' 'ylwoYHRDcQ' 'PboKCsZMez']\n"
     ]
    }
   ],
   "source": [
    "unique_count = df['ctpty_agt_bic'].unique()\n",
    "print(unique_count)"
   ]
  },
  {
   "cell_type": "code",
   "execution_count": null,
   "metadata": {
    "application/vnd.databricks.v1+cell": {
     "cellMetadata": {
      "byteLimit": 2048000,
      "rowLimit": 10000
     },
     "inputWidgets": {},
     "nuid": "8163d7bf-0193-481d-a94f-4fd3e85140de",
     "showTitle": false,
     "title": ""
    }
   },
   "outputs": [
    {
     "name": "stdout",
     "output_type": "stream",
     "text": [
      "['GBP' 'EUR' 'CAD' 'USD' 'J']\n"
     ]
    }
   ],
   "source": [
    "print(df['acct_ccy'].unique())"
   ]
  },
  {
   "cell_type": "code",
   "execution_count": null,
   "metadata": {
    "application/vnd.databricks.v1+cell": {
     "cellMetadata": {
      "byteLimit": 2048000,
      "rowLimit": 10000
     },
     "inputWidgets": {},
     "nuid": "dbe57c1f-ef42-4e07-ac04-379bcf291cf6",
     "showTitle": false,
     "title": ""
    }
   },
   "outputs": [],
   "source": [
    "df = df.drop(columns = [\"bookg_cdt_dbt_ind\",\"booking_id\",\"card_poi_id\",\n",
    "\"cdtr_schme_id\",\"end_to_end_id\",\"ntry_seq_nb\",\"rmt_inf_ustrd1\",\"rmt_inf_ustrd2\",\n",
    "\"tx_acct_svcr_ref\",\"tx_tp\",\"ctpty_acct_id_bban\",\"ctpty_acct_id_iban\",\"ctpty_acct_ccy\",\"bookg_dt_tm_gmt\",\"ctpty_adr_line2\",\"ctpty_agt_bic\",\"bal_aftr_bookg\",\"bal_aftr_bookg_nmrc\",\"\"])"
   ]
  },
  {
   "cell_type": "code",
   "execution_count": null,
   "metadata": {
    "application/vnd.databricks.v1+cell": {
     "cellMetadata": {
      "byteLimit": 2048000,
      "rowLimit": 10000
     },
     "inputWidgets": {},
     "nuid": "d43b62d7-fc11-43c0-84cb-974395b99c46",
     "showTitle": false,
     "title": ""
    }
   },
   "outputs": [],
   "source": [
    "# exchange_rates\n",
    "\n",
    "exchange_rates = {'GBP': 0.82, 'EUR': 1.0, 'CAD': 1.47, 'USD': 1.12, 'J': 120.0}"
   ]
  },
  {
   "cell_type": "code",
   "execution_count": null,
   "metadata": {
    "application/vnd.databricks.v1+cell": {
     "cellMetadata": {
      "byteLimit": 2048000,
      "rowLimit": 10000
     },
     "inputWidgets": {},
     "nuid": "15bfded7-aaaf-4f26-acdf-d8b84d1df6df",
     "showTitle": false,
     "title": ""
    }
   },
   "outputs": [],
   "source": [
    "\n",
    "# df['euro_bal_aftr_bookg'] = df.apply(lambda row: row['bal_aftr_bookg'] / exchange_rates[row['acct_ccy']], axis=1)\n",
    "df['euro_bookg_amt'] = df.apply(lambda row: row['bookg_amt'] / exchange_rates[row['acct_ccy']], axis=1)\n",
    "\n"
   ]
  },
  {
   "cell_type": "code",
   "execution_count": null,
   "metadata": {
    "application/vnd.databricks.v1+cell": {
     "cellMetadata": {
      "byteLimit": 2048000,
      "rowLimit": 10000
     },
     "inputWidgets": {},
     "nuid": "3c001811-8380-4c34-a71c-fe669ed4a06b",
     "showTitle": false,
     "title": ""
    }
   },
   "outputs": [],
   "source": [
    "# df['euro_bal_aftr_bookg_nmrc']=df['euro_bal_aftr_bookg'] * 100\n",
    "df['euro_bookg_amt_nmrc']=df['euro_bookg_amt'] * 100"
   ]
  },
  {
   "cell_type": "code",
   "execution_count": null,
   "metadata": {
    "application/vnd.databricks.v1+cell": {
     "cellMetadata": {
      "byteLimit": 2048000,
      "rowLimit": 10000
     },
     "inputWidgets": {},
     "nuid": "34541032-7614-4ec8-9b1b-201de2d4eff0",
     "showTitle": false,
     "title": ""
    }
   },
   "outputs": [
    {
     "data": {
      "text/plain": [
       "acct_ccy                         0\n",
       "acct_id                          0\n",
       "bal_aftr_bookg                   0\n",
       "bal_aftr_bookg_nmrc              0\n",
       "bookg_amt                        0\n",
       "bookg_amt_nmrc                   0\n",
       "bookg_dt_tm_cet                  0\n",
       "ctpty_adr_line1                  0\n",
       "ctpty_adr_line2             148833\n",
       "ctpty_agt_bic                17055\n",
       "ctpty_ctry                       0\n",
       "ctpty_nm                         0\n",
       "dtld_tx_tp                       0\n",
       "year_month                       0\n",
       "euro_bal_aftr_bookg              0\n",
       "euro_bookg_amt                   0\n",
       "euro_bal_aftr_bookg_nmrc         0\n",
       "euro_bookg_amt_nmrc              0\n",
       "dtype: int64"
      ]
     },
     "execution_count": 40,
     "metadata": {},
     "output_type": "execute_result"
    }
   ],
   "source": [
    "df.isnull().sum()"
   ]
  },
  {
   "cell_type": "code",
   "execution_count": null,
   "metadata": {
    "application/vnd.databricks.v1+cell": {
     "cellMetadata": {
      "byteLimit": 2048000,
      "rowLimit": 10000
     },
     "inputWidgets": {},
     "nuid": "2742d275-7368-402b-b483-a6b92271f8fe",
     "showTitle": false,
     "title": ""
    }
   },
   "outputs": [
    {
     "data": {
      "text/html": [
       "<div>\n",
       "<style scoped>\n",
       "    .dataframe tbody tr th:only-of-type {\n",
       "        vertical-align: middle;\n",
       "    }\n",
       "\n",
       "    .dataframe tbody tr th {\n",
       "        vertical-align: top;\n",
       "    }\n",
       "\n",
       "    .dataframe thead th {\n",
       "        text-align: right;\n",
       "    }\n",
       "</style>\n",
       "<table border=\"1\" class=\"dataframe\">\n",
       "  <thead>\n",
       "    <tr style=\"text-align: right;\">\n",
       "      <th></th>\n",
       "      <th>acct_ccy</th>\n",
       "      <th>acct_id</th>\n",
       "      <th>bal_aftr_bookg</th>\n",
       "      <th>bal_aftr_bookg_nmrc</th>\n",
       "      <th>bookg_amt</th>\n",
       "      <th>bookg_amt_nmrc</th>\n",
       "      <th>bookg_dt_tm_cet</th>\n",
       "      <th>ctpty_adr_line1</th>\n",
       "      <th>ctpty_adr_line2</th>\n",
       "      <th>ctpty_agt_bic</th>\n",
       "      <th>ctpty_ctry</th>\n",
       "      <th>ctpty_nm</th>\n",
       "      <th>dtld_tx_tp</th>\n",
       "      <th>year_month</th>\n",
       "      <th>euro_bal_aftr_bookg</th>\n",
       "      <th>euro_bookg_amt</th>\n",
       "      <th>euro_bal_aftr_bookg_nmrc</th>\n",
       "      <th>euro_bookg_amt_nmrc</th>\n",
       "    </tr>\n",
       "  </thead>\n",
       "  <tbody>\n",
       "    <tr>\n",
       "      <th>0</th>\n",
       "      <td>GBP</td>\n",
       "      <td>GB37FAKE3149785039</td>\n",
       "      <td>3239.0</td>\n",
       "      <td>323900</td>\n",
       "      <td>3044.0</td>\n",
       "      <td>304400</td>\n",
       "      <td>2013-02-01 09:00:00</td>\n",
       "      <td>鹿児島県豊島区羽折町7丁目24番12号</td>\n",
       "      <td>NaN</td>\n",
       "      <td>NaN</td>\n",
       "      <td>Japan</td>\n",
       "      <td>Geldmaat ATM</td>\n",
       "      <td>2222</td>\n",
       "      <td>201302</td>\n",
       "      <td>3950.000000</td>\n",
       "      <td>3712.195122</td>\n",
       "      <td>3.950000e+05</td>\n",
       "      <td>371219.512195</td>\n",
       "    </tr>\n",
       "    <tr>\n",
       "      <th>1</th>\n",
       "      <td>GBP</td>\n",
       "      <td>GB37FAKE3149785039</td>\n",
       "      <td>6283.0</td>\n",
       "      <td>628300</td>\n",
       "      <td>3044.0</td>\n",
       "      <td>304400</td>\n",
       "      <td>2013-02-01 09:00:00</td>\n",
       "      <td>鹿児島県豊島区羽折町7丁目24番12号</td>\n",
       "      <td>NaN</td>\n",
       "      <td>NaN</td>\n",
       "      <td>Japan</td>\n",
       "      <td>Geldmaat ATM</td>\n",
       "      <td>2222</td>\n",
       "      <td>201302</td>\n",
       "      <td>7662.195122</td>\n",
       "      <td>3712.195122</td>\n",
       "      <td>7.662195e+05</td>\n",
       "      <td>371219.512195</td>\n",
       "    </tr>\n",
       "    <tr>\n",
       "      <th>2</th>\n",
       "      <td>EUR</td>\n",
       "      <td>NL12FAKE4031529538</td>\n",
       "      <td>6279.0</td>\n",
       "      <td>627900</td>\n",
       "      <td>4570.0</td>\n",
       "      <td>457000</td>\n",
       "      <td>2013-02-01 09:00:00</td>\n",
       "      <td>Studio 9\\nDonna passage\\nMarcusland\\nZE7A 6XT</td>\n",
       "      <td>NaN</td>\n",
       "      <td>NaN</td>\n",
       "      <td>Great Britain</td>\n",
       "      <td>Geldmaat ATM</td>\n",
       "      <td>2222</td>\n",
       "      <td>201302</td>\n",
       "      <td>6279.000000</td>\n",
       "      <td>4570.000000</td>\n",
       "      <td>6.279000e+05</td>\n",
       "      <td>457000.000000</td>\n",
       "    </tr>\n",
       "    <tr>\n",
       "      <th>3</th>\n",
       "      <td>EUR</td>\n",
       "      <td>NL12FAKE4031529538</td>\n",
       "      <td>10849.0</td>\n",
       "      <td>1084900</td>\n",
       "      <td>4570.0</td>\n",
       "      <td>457000</td>\n",
       "      <td>2013-02-01 09:00:00</td>\n",
       "      <td>Studio 9\\nDonna passage\\nMarcusland\\nZE7A 6XT</td>\n",
       "      <td>NaN</td>\n",
       "      <td>NaN</td>\n",
       "      <td>Great Britain</td>\n",
       "      <td>Geldmaat ATM</td>\n",
       "      <td>2222</td>\n",
       "      <td>201302</td>\n",
       "      <td>10849.000000</td>\n",
       "      <td>4570.000000</td>\n",
       "      <td>1.084900e+06</td>\n",
       "      <td>457000.000000</td>\n",
       "    </tr>\n",
       "    <tr>\n",
       "      <th>4</th>\n",
       "      <td>EUR</td>\n",
       "      <td>NL12FAKE1845242763</td>\n",
       "      <td>11280.0</td>\n",
       "      <td>1128000</td>\n",
       "      <td>2272.0</td>\n",
       "      <td>227200</td>\n",
       "      <td>2013-02-01 09:00:00</td>\n",
       "      <td>Giovanniweg 5\\n6649NN\\nWapserveen</td>\n",
       "      <td>NaN</td>\n",
       "      <td>NaN</td>\n",
       "      <td>NL</td>\n",
       "      <td>Geldmaat ATM</td>\n",
       "      <td>2222</td>\n",
       "      <td>201302</td>\n",
       "      <td>11280.000000</td>\n",
       "      <td>2272.000000</td>\n",
       "      <td>1.128000e+06</td>\n",
       "      <td>227200.000000</td>\n",
       "    </tr>\n",
       "  </tbody>\n",
       "</table>\n",
       "</div>"
      ],
      "text/plain": [
       "  acct_ccy             acct_id  ...  euro_bal_aftr_bookg_nmrc  euro_bookg_amt_nmrc\n",
       "0      GBP  GB37FAKE3149785039  ...              3.950000e+05        371219.512195\n",
       "1      GBP  GB37FAKE3149785039  ...              7.662195e+05        371219.512195\n",
       "2      EUR  NL12FAKE4031529538  ...              6.279000e+05        457000.000000\n",
       "3      EUR  NL12FAKE4031529538  ...              1.084900e+06        457000.000000\n",
       "4      EUR  NL12FAKE1845242763  ...              1.128000e+06        227200.000000\n",
       "\n",
       "[5 rows x 18 columns]"
      ]
     },
     "execution_count": 32,
     "metadata": {},
     "output_type": "execute_result"
    }
   ],
   "source": [
    "df.head()"
   ]
  },
  {
   "cell_type": "code",
   "execution_count": null,
   "metadata": {
    "application/vnd.databricks.v1+cell": {
     "cellMetadata": {
      "byteLimit": 2048000,
      "rowLimit": 10000
     },
     "inputWidgets": {},
     "nuid": "afea809a-74bb-4d81-a7f7-15aa52f4fde9",
     "showTitle": false,
     "title": ""
    }
   },
   "outputs": [],
   "source": [
    "columnsc = ['euro_bal_aftr_bookg', 'euro_bookg_amt', 'euro_bal_aftr_bookg_nmrc', 'euro_bookg_amt_nmrc']\n",
    "df[columnsc ] = df[columnsc ].applymap('{:.2f}'.format)"
   ]
  },
  {
   "cell_type": "code",
   "execution_count": null,
   "metadata": {
    "application/vnd.databricks.v1+cell": {
     "cellMetadata": {
      "byteLimit": 2048000,
      "rowLimit": 10000
     },
     "inputWidgets": {},
     "nuid": "b5ba0c6c-4b19-4666-9798-d3ced2e59452",
     "showTitle": false,
     "title": ""
    }
   },
   "outputs": [
    {
     "data": {
      "text/html": [
       "<div>\n",
       "<style scoped>\n",
       "    .dataframe tbody tr th:only-of-type {\n",
       "        vertical-align: middle;\n",
       "    }\n",
       "\n",
       "    .dataframe tbody tr th {\n",
       "        vertical-align: top;\n",
       "    }\n",
       "\n",
       "    .dataframe thead th {\n",
       "        text-align: right;\n",
       "    }\n",
       "</style>\n",
       "<table border=\"1\" class=\"dataframe\">\n",
       "  <thead>\n",
       "    <tr style=\"text-align: right;\">\n",
       "      <th></th>\n",
       "      <th>acct_ccy</th>\n",
       "      <th>acct_id</th>\n",
       "      <th>bal_aftr_bookg</th>\n",
       "      <th>bal_aftr_bookg_nmrc</th>\n",
       "      <th>bookg_amt</th>\n",
       "      <th>bookg_amt_nmrc</th>\n",
       "      <th>bookg_dt_tm_cet</th>\n",
       "      <th>ctpty_adr_line1</th>\n",
       "      <th>ctpty_adr_line2</th>\n",
       "      <th>ctpty_agt_bic</th>\n",
       "      <th>ctpty_ctry</th>\n",
       "      <th>ctpty_nm</th>\n",
       "      <th>dtld_tx_tp</th>\n",
       "      <th>year_month</th>\n",
       "      <th>euro_bal_aftr_bookg</th>\n",
       "      <th>euro_bookg_amt</th>\n",
       "      <th>euro_bal_aftr_bookg_nmrc</th>\n",
       "      <th>euro_bookg_amt_nmrc</th>\n",
       "    </tr>\n",
       "  </thead>\n",
       "  <tbody>\n",
       "    <tr>\n",
       "      <th>148831</th>\n",
       "      <td>EUR</td>\n",
       "      <td>NL98BOER7189284601</td>\n",
       "      <td>300980.07</td>\n",
       "      <td>30098007</td>\n",
       "      <td>44.39</td>\n",
       "      <td>4439</td>\n",
       "      <td>2013-03-01 23:59:49</td>\n",
       "      <td>Daniëlsingel 2\\n1375 DF\\nVinkega</td>\n",
       "      <td>NaN</td>\n",
       "      <td>ylwoYHRDcQ</td>\n",
       "      <td>NL</td>\n",
       "      <td>Kuehne + Nagel Logistics</td>\n",
       "      <td>6630</td>\n",
       "      <td>201303</td>\n",
       "      <td>300980.07</td>\n",
       "      <td>44.39</td>\n",
       "      <td>30098007.00</td>\n",
       "      <td>4439.00</td>\n",
       "    </tr>\n",
       "    <tr>\n",
       "      <th>148832</th>\n",
       "      <td>USD</td>\n",
       "      <td>US19PONZ1237138747</td>\n",
       "      <td>257004.48</td>\n",
       "      <td>25700448</td>\n",
       "      <td>5.54</td>\n",
       "      <td>554</td>\n",
       "      <td>2013-03-01 23:59:50</td>\n",
       "      <td>Boazboulevard 176\\n4950 PD\\nDeinum</td>\n",
       "      <td>NaN</td>\n",
       "      <td>PboKCsZMez</td>\n",
       "      <td>NL</td>\n",
       "      <td>Koninklijke Rutten</td>\n",
       "      <td>7512</td>\n",
       "      <td>201303</td>\n",
       "      <td>229468.29</td>\n",
       "      <td>4.95</td>\n",
       "      <td>22946828.57</td>\n",
       "      <td>494.64</td>\n",
       "    </tr>\n",
       "  </tbody>\n",
       "</table>\n",
       "</div>"
      ],
      "text/plain": [
       "       acct_ccy  ... euro_bookg_amt_nmrc\n",
       "148831      EUR  ...             4439.00\n",
       "148832      USD  ...              494.64\n",
       "\n",
       "[2 rows x 18 columns]"
      ]
     },
     "execution_count": 39,
     "metadata": {},
     "output_type": "execute_result"
    }
   ],
   "source": [
    "df.tail(2)"
   ]
  },
  {
   "cell_type": "code",
   "execution_count": null,
   "metadata": {
    "application/vnd.databricks.v1+cell": {
     "cellMetadata": {
      "byteLimit": 2048000,
      "rowLimit": 10000
     },
     "inputWidgets": {},
     "nuid": "8370f593-c129-493e-b896-dfdf4390a4ce",
     "showTitle": false,
     "title": ""
    }
   },
   "outputs": [
    {
     "data": {
      "text/plain": [
       "148833"
      ]
     },
     "execution_count": 38,
     "metadata": {},
     "output_type": "execute_result"
    }
   ],
   "source": [
    "df['ctpty_adr_line2'].isnull().sum()"
   ]
  },
  {
   "cell_type": "code",
   "execution_count": null,
   "metadata": {
    "application/vnd.databricks.v1+cell": {
     "cellMetadata": {},
     "inputWidgets": {},
     "nuid": "cc69ebd6-3190-44d6-a822-a0d2b3145ad8",
     "showTitle": false,
     "title": ""
    }
   },
   "outputs": [],
   "source": [
    "df = df.drop(columns = ['acct_ccy','bal_aftr_bookg','bal_aftr_bookg_nmrc'"
   ]
  },
  {
   "cell_type": "code",
   "execution_count": null,
   "metadata": {
    "application/vnd.databricks.v1+cell": {
     "cellMetadata": {
      "byteLimit": 2048000,
      "rowLimit": 10000
     },
     "inputWidgets": {},
     "nuid": "c2b4d0e3-4ba9-45ae-9e98-c0d82a50520a",
     "showTitle": false,
     "title": ""
    }
   },
   "outputs": [
    {
     "name": "stdout",
     "output_type": "stream",
     "text": [
      "17\n"
     ]
    }
   ],
   "source": [
    "unique_count = df['dtld_tx_tp'].nunique()\n",
    "print(unique_count)"
   ]
  }
 ],
 "metadata": {
  "application/vnd.databricks.v1+notebook": {
   "dashboards": [],
   "language": "python",
   "notebookMetadata": {
    "mostRecentlyExecutedCommandWithImplicitDF": {
     "commandId": 1241008650236006,
     "dataframes": [
      "_sqldf"
     ]
    },
    "pythonIndentUnit": 4
   },
   "notebookName": "Untitled Notebook 2024-03-05 14:29:26",
   "widgets": {}
  },
  "kernelspec": {
   "display_name": "Python 3",
   "language": "python",
   "name": "python3"
  },
  "language_info": {
   "codemirror_mode": {
    "name": "ipython",
    "version": 3
   },
   "file_extension": ".py",
   "mimetype": "text/x-python",
   "name": "python",
   "nbconvert_exporter": "python",
   "pygments_lexer": "ipython3",
   "version": "3.10.5"
  }
 },
 "nbformat": 4,
 "nbformat_minor": 0
}
